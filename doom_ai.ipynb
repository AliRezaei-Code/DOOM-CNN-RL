{
 "cells": [
  {
   "cell_type": "code",
   "execution_count": null,
   "id": "09c9abe9-4656-49a0-8791-d8320a18acdd",
   "metadata": {},
   "outputs": [],
   "source": [
    "# AI for DOOM\n",
    "\n",
    "\n",
    "\n",
    "\n",
    "#Importing the libraries\n",
    "import numpy as np\n",
    "import torch\n",
    "import torch.nn as nn\n",
    "import torch.nn.fucntional as F\n",
    "import torch.optim as optim\n",
    "from torch.autograd import Variable \n",
    "\n",
    "\n",
    "#importing the packages for OpenAI and Doom:\n",
    "import gym \n",
    "from gym.wrappers import Skipwapper\n",
    "from ppaquette_gym_doom.wrappers.action_space import ToDiscrete\n",
    "\n",
    "#importing the other python files\n",
    "import experience_replay, image_preprocessing\n",
    "\n"
   ]
  }
 ],
 "metadata": {
  "kernelspec": {
   "display_name": "Python 3 (ipykernel)",
   "language": "python",
   "name": "python3"
  },
  "language_info": {
   "codemirror_mode": {
    "name": "ipython",
    "version": 3
   },
   "file_extension": ".py",
   "mimetype": "text/x-python",
   "name": "python",
   "nbconvert_exporter": "python",
   "pygments_lexer": "ipython3",
   "version": "3.10.12"
  }
 },
 "nbformat": 4,
 "nbformat_minor": 5
}
